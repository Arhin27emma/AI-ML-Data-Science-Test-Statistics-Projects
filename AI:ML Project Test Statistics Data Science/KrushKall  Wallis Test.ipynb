{
 "cells": [
  {
   "cell_type": "markdown",
   "id": "3571fe4c",
   "metadata": {},
   "source": [
    "# KrushKall  Wallis Test In Python"
   ]
  },
  {
   "cell_type": "code",
   "execution_count": 2,
   "id": "41bef8e9",
   "metadata": {},
   "outputs": [
    {
     "data": {
      "text/html": [
       "<div>\n",
       "<style scoped>\n",
       "    .dataframe tbody tr th:only-of-type {\n",
       "        vertical-align: middle;\n",
       "    }\n",
       "\n",
       "    .dataframe tbody tr th {\n",
       "        vertical-align: top;\n",
       "    }\n",
       "\n",
       "    .dataframe thead th {\n",
       "        text-align: right;\n",
       "    }\n",
       "</style>\n",
       "<table border=\"1\" class=\"dataframe\">\n",
       "  <thead>\n",
       "    <tr style=\"text-align: right;\">\n",
       "      <th></th>\n",
       "      <th>ID</th>\n",
       "      <th>prgm</th>\n",
       "      <th>sex</th>\n",
       "      <th>age</th>\n",
       "      <th>time1</th>\n",
       "      <th>x1pr</th>\n",
       "      <th>x2pr</th>\n",
       "      <th>x3pr</th>\n",
       "      <th>x4pr</th>\n",
       "      <th>x5pr</th>\n",
       "      <th>...</th>\n",
       "      <th>time2</th>\n",
       "      <th>x1pt</th>\n",
       "      <th>x2pt</th>\n",
       "      <th>x3pt</th>\n",
       "      <th>x4pt</th>\n",
       "      <th>x5pt</th>\n",
       "      <th>x6pt</th>\n",
       "      <th>x7pt</th>\n",
       "      <th>x8pt</th>\n",
       "      <th>Ypt</th>\n",
       "    </tr>\n",
       "  </thead>\n",
       "  <tbody>\n",
       "    <tr>\n",
       "      <th>0</th>\n",
       "      <td>1</td>\n",
       "      <td>FT</td>\n",
       "      <td>Male</td>\n",
       "      <td>19</td>\n",
       "      <td>12</td>\n",
       "      <td>4</td>\n",
       "      <td>5</td>\n",
       "      <td>3</td>\n",
       "      <td>3</td>\n",
       "      <td>4</td>\n",
       "      <td>...</td>\n",
       "      <td>83</td>\n",
       "      <td>5</td>\n",
       "      <td>4</td>\n",
       "      <td>3</td>\n",
       "      <td>1</td>\n",
       "      <td>3</td>\n",
       "      <td>4</td>\n",
       "      <td>2</td>\n",
       "      <td>4</td>\n",
       "      <td>26</td>\n",
       "    </tr>\n",
       "    <tr>\n",
       "      <th>1</th>\n",
       "      <td>2</td>\n",
       "      <td>FT</td>\n",
       "      <td>Male</td>\n",
       "      <td>20</td>\n",
       "      <td>60</td>\n",
       "      <td>3</td>\n",
       "      <td>5</td>\n",
       "      <td>5</td>\n",
       "      <td>3</td>\n",
       "      <td>5</td>\n",
       "      <td>...</td>\n",
       "      <td>92</td>\n",
       "      <td>1</td>\n",
       "      <td>3</td>\n",
       "      <td>1</td>\n",
       "      <td>3</td>\n",
       "      <td>1</td>\n",
       "      <td>3</td>\n",
       "      <td>1</td>\n",
       "      <td>6</td>\n",
       "      <td>19</td>\n",
       "    </tr>\n",
       "    <tr>\n",
       "      <th>2</th>\n",
       "      <td>3</td>\n",
       "      <td>FT</td>\n",
       "      <td>Male</td>\n",
       "      <td>22</td>\n",
       "      <td>56</td>\n",
       "      <td>4</td>\n",
       "      <td>3</td>\n",
       "      <td>4</td>\n",
       "      <td>0</td>\n",
       "      <td>3</td>\n",
       "      <td>...</td>\n",
       "      <td>54</td>\n",
       "      <td>4</td>\n",
       "      <td>2</td>\n",
       "      <td>3</td>\n",
       "      <td>3</td>\n",
       "      <td>5</td>\n",
       "      <td>4</td>\n",
       "      <td>4</td>\n",
       "      <td>3</td>\n",
       "      <td>28</td>\n",
       "    </tr>\n",
       "    <tr>\n",
       "      <th>3</th>\n",
       "      <td>4</td>\n",
       "      <td>FT</td>\n",
       "      <td>male</td>\n",
       "      <td>19</td>\n",
       "      <td>67</td>\n",
       "      <td>4</td>\n",
       "      <td>4</td>\n",
       "      <td>2</td>\n",
       "      <td>2</td>\n",
       "      <td>2</td>\n",
       "      <td>...</td>\n",
       "      <td>58</td>\n",
       "      <td>4</td>\n",
       "      <td>5</td>\n",
       "      <td>2</td>\n",
       "      <td>1</td>\n",
       "      <td>4</td>\n",
       "      <td>4</td>\n",
       "      <td>2</td>\n",
       "      <td>5</td>\n",
       "      <td>27</td>\n",
       "    </tr>\n",
       "  </tbody>\n",
       "</table>\n",
       "<p>4 rows × 24 columns</p>\n",
       "</div>"
      ],
      "text/plain": [
       "   ID prgm    sex  age  time1  x1pr  x2pr  x3pr  x4pr  x5pr  ...  time2  x1pt  \\\n",
       "0   1   FT   Male   19     12     4     5     3     3     4  ...     83     5   \n",
       "1   2   FT   Male   20     60     3     5     5     3     5  ...     92     1   \n",
       "2   3   FT  Male    22     56     4     3     4     0     3  ...     54     4   \n",
       "3   4   FT   male   19     67     4     4     2     2     2  ...     58     4   \n",
       "\n",
       "   x2pt  x3pt  x4pt  x5pt  x6pt  x7pt  x8pt  Ypt  \n",
       "0     4     3     1     3     4     2     4   26  \n",
       "1     3     1     3     1     3     1     6   19  \n",
       "2     2     3     3     5     4     4     3   28  \n",
       "3     5     2     1     4     4     2     5   27  \n",
       "\n",
       "[4 rows x 24 columns]"
      ]
     },
     "execution_count": 2,
     "metadata": {},
     "output_type": "execute_result"
    }
   ],
   "source": [
    "# Importing library\n",
    "import scipy.stats as stats\n",
    "import pandas as pd\n",
    "Krushkall_Wallish = pd.read_csv(r'C:\\Users\\Dell\\OneDrive\\Desktop/stat.csv')\n",
    "Krushkall_Wallish.head(4)"
   ]
  },
  {
   "cell_type": "code",
   "execution_count": 3,
   "id": "30c936d7",
   "metadata": {},
   "outputs": [
    {
     "name": "stdout",
     "output_type": "stream",
     "text": [
      "KruskalResult(statistic=185.92370385862827, pvalue=4.238192509570497e-41)\n"
     ]
    }
   ],
   "source": [
    "# Defining data groups\n",
    "data_group1 = Krushkall_Wallish['x5pt']\n",
    "data_group2 = Krushkall_Wallish['x6pt']\n",
    "data_group3 = Krushkall_Wallish['x7pt']\n",
    "\n",
    "# Conduct the Kruskal-Wallis Test\n",
    "result = stats.kruskal(data_group1, data_group2, data_group3)\n",
    "\n",
    "# Print the result\n",
    "print(result)\n"
   ]
  },
  {
   "cell_type": "code",
   "execution_count": 4,
   "id": "a9cbb1fc",
   "metadata": {},
   "outputs": [
    {
     "name": "stderr",
     "output_type": "stream",
     "text": [
      "C:\\Users\\Dell\\anaconda3\\lib\\site-packages\\seaborn\\_decorators.py:36: FutureWarning: Pass the following variables as keyword args: x, y, hue. From version 0.12, the only valid positional argument will be `data`, and passing other arguments without an explicit keyword will result in an error or misinterpretation.\n",
      "  warnings.warn(\n"
     ]
    },
    {
     "data": {
      "text/plain": [
       "<AxesSubplot:xlabel='x5pt', ylabel='x6pt'>"
      ]
     },
     "execution_count": 4,
     "metadata": {},
     "output_type": "execute_result"
    },
    {
     "data": {
      "image/png": "[encoded data removed]",
      "text/plain": [
       "<Figure size 432x288 with 1 Axes>"
      ]
     },
     "metadata": {
      "needs_background": "light"
     },
     "output_type": "display_data"
    }
   ],
   "source": [
    "import seaborn as sns\n",
    "sns.boxplot(Krushkall_Wallish['x5pt'], Krushkall_Wallish['x6pt'], Krushkall_Wallish['x7pt'])"
   ]
  },
  {
   "cell_type": "code",
   "execution_count": null,
   "id": "5cddbc32",
   "metadata": {},
   "outputs": [],
   "source": []
  }
 ],
 "metadata": {
  "kernelspec": {
   "display_name": "Python 3 (ipykernel)",
   "language": "python",
   "name": "python3"
  },
  "language_info": {
   "codemirror_mode": {
    "name": "ipython",
    "version": 3
   },
   "file_extension": ".py",
   "mimetype": "text/x-python",
   "name": "python",
   "nbconvert_exporter": "python",
   "pygments_lexer": "ipython3",
   "version": "3.9.12"
  }
 },
 "nbformat": 4,
 "nbformat_minor": 5
}
