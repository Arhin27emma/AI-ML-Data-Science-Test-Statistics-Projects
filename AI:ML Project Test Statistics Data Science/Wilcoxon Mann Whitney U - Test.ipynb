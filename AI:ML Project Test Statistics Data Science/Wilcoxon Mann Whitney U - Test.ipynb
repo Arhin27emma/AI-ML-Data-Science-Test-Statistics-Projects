{
 "cells": [
  {
   "cell_type": "markdown",
   "id": "d27cb483",
   "metadata": {},
   "source": [
    "# Wilcoxon Mann WhitneyTest In Python "
   ]
  },
  {
   "cell_type": "code",
   "execution_count": 15,
   "id": "e25aeda8",
   "metadata": {},
   "outputs": [
    {
     "data": {
      "text/html": [
       "<div>\n",
       "<style scoped>\n",
       "    .dataframe tbody tr th:only-of-type {\n",
       "        vertical-align: middle;\n",
       "    }\n",
       "\n",
       "    .dataframe tbody tr th {\n",
       "        vertical-align: top;\n",
       "    }\n",
       "\n",
       "    .dataframe thead th {\n",
       "        text-align: right;\n",
       "    }\n",
       "</style>\n",
       "<table border=\"1\" class=\"dataframe\">\n",
       "  <thead>\n",
       "    <tr style=\"text-align: right;\">\n",
       "      <th></th>\n",
       "      <th>ID</th>\n",
       "      <th>prgm</th>\n",
       "      <th>sex</th>\n",
       "      <th>age</th>\n",
       "      <th>time1</th>\n",
       "      <th>x1pr</th>\n",
       "      <th>x2pr</th>\n",
       "      <th>x3pr</th>\n",
       "      <th>x4pr</th>\n",
       "      <th>x5pr</th>\n",
       "      <th>...</th>\n",
       "      <th>time2</th>\n",
       "      <th>x1pt</th>\n",
       "      <th>x2pt</th>\n",
       "      <th>x3pt</th>\n",
       "      <th>x4pt</th>\n",
       "      <th>x5pt</th>\n",
       "      <th>x6pt</th>\n",
       "      <th>x7pt</th>\n",
       "      <th>x8pt</th>\n",
       "      <th>Ypt</th>\n",
       "    </tr>\n",
       "  </thead>\n",
       "  <tbody>\n",
       "    <tr>\n",
       "      <th>0</th>\n",
       "      <td>1</td>\n",
       "      <td>FT</td>\n",
       "      <td>Male</td>\n",
       "      <td>19</td>\n",
       "      <td>12</td>\n",
       "      <td>4</td>\n",
       "      <td>5</td>\n",
       "      <td>3</td>\n",
       "      <td>3</td>\n",
       "      <td>4</td>\n",
       "      <td>...</td>\n",
       "      <td>83</td>\n",
       "      <td>5</td>\n",
       "      <td>4</td>\n",
       "      <td>3</td>\n",
       "      <td>1</td>\n",
       "      <td>3</td>\n",
       "      <td>4</td>\n",
       "      <td>2</td>\n",
       "      <td>4</td>\n",
       "      <td>26</td>\n",
       "    </tr>\n",
       "    <tr>\n",
       "      <th>1</th>\n",
       "      <td>2</td>\n",
       "      <td>FT</td>\n",
       "      <td>Male</td>\n",
       "      <td>20</td>\n",
       "      <td>60</td>\n",
       "      <td>3</td>\n",
       "      <td>5</td>\n",
       "      <td>5</td>\n",
       "      <td>3</td>\n",
       "      <td>5</td>\n",
       "      <td>...</td>\n",
       "      <td>92</td>\n",
       "      <td>1</td>\n",
       "      <td>3</td>\n",
       "      <td>1</td>\n",
       "      <td>3</td>\n",
       "      <td>1</td>\n",
       "      <td>3</td>\n",
       "      <td>1</td>\n",
       "      <td>6</td>\n",
       "      <td>19</td>\n",
       "    </tr>\n",
       "    <tr>\n",
       "      <th>2</th>\n",
       "      <td>3</td>\n",
       "      <td>FT</td>\n",
       "      <td>Male</td>\n",
       "      <td>22</td>\n",
       "      <td>56</td>\n",
       "      <td>4</td>\n",
       "      <td>3</td>\n",
       "      <td>4</td>\n",
       "      <td>0</td>\n",
       "      <td>3</td>\n",
       "      <td>...</td>\n",
       "      <td>54</td>\n",
       "      <td>4</td>\n",
       "      <td>2</td>\n",
       "      <td>3</td>\n",
       "      <td>3</td>\n",
       "      <td>5</td>\n",
       "      <td>4</td>\n",
       "      <td>4</td>\n",
       "      <td>3</td>\n",
       "      <td>28</td>\n",
       "    </tr>\n",
       "    <tr>\n",
       "      <th>3</th>\n",
       "      <td>4</td>\n",
       "      <td>FT</td>\n",
       "      <td>male</td>\n",
       "      <td>19</td>\n",
       "      <td>67</td>\n",
       "      <td>4</td>\n",
       "      <td>4</td>\n",
       "      <td>2</td>\n",
       "      <td>2</td>\n",
       "      <td>2</td>\n",
       "      <td>...</td>\n",
       "      <td>58</td>\n",
       "      <td>4</td>\n",
       "      <td>5</td>\n",
       "      <td>2</td>\n",
       "      <td>1</td>\n",
       "      <td>4</td>\n",
       "      <td>4</td>\n",
       "      <td>2</td>\n",
       "      <td>5</td>\n",
       "      <td>27</td>\n",
       "    </tr>\n",
       "  </tbody>\n",
       "</table>\n",
       "<p>4 rows × 24 columns</p>\n",
       "</div>"
      ],
      "text/plain": [
       "   ID prgm    sex  age  time1  x1pr  x2pr  x3pr  x4pr  x5pr  ...  time2  x1pt  \\\n",
       "0   1   FT   Male   19     12     4     5     3     3     4  ...     83     5   \n",
       "1   2   FT   Male   20     60     3     5     5     3     5  ...     92     1   \n",
       "2   3   FT  Male    22     56     4     3     4     0     3  ...     54     4   \n",
       "3   4   FT   male   19     67     4     4     2     2     2  ...     58     4   \n",
       "\n",
       "   x2pt  x3pt  x4pt  x5pt  x6pt  x7pt  x8pt  Ypt  \n",
       "0     4     3     1     3     4     2     4   26  \n",
       "1     3     1     3     1     3     1     6   19  \n",
       "2     2     3     3     5     4     4     3   28  \n",
       "3     5     2     1     4     4     2     5   27  \n",
       "\n",
       "[4 rows x 24 columns]"
      ]
     },
     "execution_count": 15,
     "metadata": {},
     "output_type": "execute_result"
    }
   ],
   "source": [
    "# Importing library\n",
    "from scipy.stats import mannwhitneyu\n",
    "import scipy.stats as stats\n",
    "import pandas as pd\n",
    "Wilcoxon = pd.read_csv(r'C:\\Users\\Dell\\OneDrive\\Desktop/stat.csv')\n",
    "Wilcoxon.head(4)"
   ]
  },
  {
   "cell_type": "code",
   "execution_count": 16,
   "id": "387d185b",
   "metadata": {},
   "outputs": [
    {
     "data": {
      "text/plain": [
       "MannwhitneyuResult(statistic=25242.0, pvalue=8.951618792493413e-09)"
      ]
     },
     "execution_count": 16,
     "metadata": {},
     "output_type": "execute_result"
    }
   ],
   "source": [
    "# Carrying out the Wilcoxon–Mann–Whitney test\n",
    "results = mannwhitneyu(Wilcoxon['x1pr'], Wilcoxon['x2pr'])\n",
    "results"
   ]
  },
  {
   "cell_type": "code",
   "execution_count": 17,
   "id": "6484d894",
   "metadata": {},
   "outputs": [
    {
     "name": "stderr",
     "output_type": "stream",
     "text": [
      "C:\\Users\\Dell\\anaconda3\\lib\\site-packages\\seaborn\\_decorators.py:36: FutureWarning: Pass the following variables as keyword args: x, y. From version 0.12, the only valid positional argument will be `data`, and passing other arguments without an explicit keyword will result in an error or misinterpretation.\n",
      "  warnings.warn(\n"
     ]
    },
    {
     "data": {
      "text/plain": [
       "<AxesSubplot:xlabel='x1pr', ylabel='x2pr'>"
      ]
     },
     "execution_count": 17,
     "metadata": {},
     "output_type": "execute_result"
    },
    {
     "data": {
      "image/png": "[encoded data removed]",
      "text/plain": [
       "<Figure size 432x288 with 1 Axes>"
      ]
     },
     "metadata": {
      "needs_background": "light"
     },
     "output_type": "display_data"
    }
   ],
   "source": [
    "import seaborn as sns\n",
    "sns.boxplot(Wilcoxon['x1pr'], Wilcoxon['x2pr'])"
   ]
  },
  {
   "cell_type": "code",
   "execution_count": null,
   "id": "d1685814",
   "metadata": {},
   "outputs": [],
   "source": []
  }
 ],
 "metadata": {
  "kernelspec": {
   "display_name": "Python 3 (ipykernel)",
   "language": "python",
   "name": "python3"
  },
  "language_info": {
   "codemirror_mode": {
    "name": "ipython",
    "version": 3
   },
   "file_extension": ".py",
   "mimetype": "text/x-python",
   "name": "python",
   "nbconvert_exporter": "python",
   "pygments_lexer": "ipython3",
   "version": "3.9.12"
  }
 },
 "nbformat": 4,
 "nbformat_minor": 5
}
